{
 "cells": [
  {
   "cell_type": "code",
   "execution_count": 1,
   "id": "780e65e4-1b17-4938-b6eb-c392223c38a8",
   "metadata": {},
   "outputs": [],
   "source": [
    "import pandas as pd\n",
    "import numpy as np\n",
    "from sklearn.preprocessing import LabelEncoder\n",
    "from sklearn.model_selection import train_test_split\n",
    "from xgboost import XGBRegressor\n",
    "from sklearn.metrics import r2_score,mean_absolute_error"
   ]
  },
  {
   "cell_type": "code",
   "execution_count": 2,
   "id": "e98174d1-69f3-40a4-8dd8-ecc189e2e6f5",
   "metadata": {},
   "outputs": [
    {
     "data": {
      "text/html": [
       "<div>\n",
       "<style scoped>\n",
       "    .dataframe tbody tr th:only-of-type {\n",
       "        vertical-align: middle;\n",
       "    }\n",
       "\n",
       "    .dataframe tbody tr th {\n",
       "        vertical-align: top;\n",
       "    }\n",
       "\n",
       "    .dataframe thead th {\n",
       "        text-align: right;\n",
       "    }\n",
       "</style>\n",
       "<table border=\"1\" class=\"dataframe\">\n",
       "  <thead>\n",
       "    <tr style=\"text-align: right;\">\n",
       "      <th></th>\n",
       "      <th>Home</th>\n",
       "      <th>SqFt</th>\n",
       "      <th>Bedrooms</th>\n",
       "      <th>Bathrooms</th>\n",
       "      <th>Offers</th>\n",
       "      <th>Neighborhood</th>\n",
       "      <th>Price</th>\n",
       "    </tr>\n",
       "  </thead>\n",
       "  <tbody>\n",
       "    <tr>\n",
       "      <th>0</th>\n",
       "      <td>1</td>\n",
       "      <td>1790</td>\n",
       "      <td>2</td>\n",
       "      <td>2</td>\n",
       "      <td>2</td>\n",
       "      <td>East</td>\n",
       "      <td>114300</td>\n",
       "    </tr>\n",
       "    <tr>\n",
       "      <th>1</th>\n",
       "      <td>2</td>\n",
       "      <td>2030</td>\n",
       "      <td>4</td>\n",
       "      <td>2</td>\n",
       "      <td>3</td>\n",
       "      <td>East</td>\n",
       "      <td>114200</td>\n",
       "    </tr>\n",
       "    <tr>\n",
       "      <th>2</th>\n",
       "      <td>3</td>\n",
       "      <td>1740</td>\n",
       "      <td>3</td>\n",
       "      <td>2</td>\n",
       "      <td>1</td>\n",
       "      <td>East</td>\n",
       "      <td>114800</td>\n",
       "    </tr>\n",
       "    <tr>\n",
       "      <th>3</th>\n",
       "      <td>4</td>\n",
       "      <td>1980</td>\n",
       "      <td>3</td>\n",
       "      <td>2</td>\n",
       "      <td>3</td>\n",
       "      <td>East</td>\n",
       "      <td>94700</td>\n",
       "    </tr>\n",
       "    <tr>\n",
       "      <th>4</th>\n",
       "      <td>5</td>\n",
       "      <td>2130</td>\n",
       "      <td>3</td>\n",
       "      <td>3</td>\n",
       "      <td>3</td>\n",
       "      <td>East</td>\n",
       "      <td>119800</td>\n",
       "    </tr>\n",
       "  </tbody>\n",
       "</table>\n",
       "</div>"
      ],
      "text/plain": [
       "   Home  SqFt  Bedrooms  Bathrooms  Offers Neighborhood   Price\n",
       "0     1  1790         2          2       2         East  114300\n",
       "1     2  2030         4          2       3         East  114200\n",
       "2     3  1740         3          2       1         East  114800\n",
       "3     4  1980         3          2       3         East   94700\n",
       "4     5  2130         3          3       3         East  119800"
      ]
     },
     "execution_count": 2,
     "metadata": {},
     "output_type": "execute_result"
    }
   ],
   "source": [
    "dataset = pd.read_csv(\"/Users/nikkiruhil/Desktop/Price Prediction/house-prices.csv\")\n",
    "dataset.head()"
   ]
  },
  {
   "cell_type": "code",
   "execution_count": 3,
   "id": "f8390874-ca89-4f53-b880-55e3f37118ae",
   "metadata": {},
   "outputs": [
    {
     "name": "stdout",
     "output_type": "stream",
     "text": [
      "['East' 'North' 'West']\n"
     ]
    }
   ],
   "source": [
    "#check unique values in neighborhood column\n",
    "print(dataset['Neighborhood'].unique())"
   ]
  },
  {
   "cell_type": "code",
   "execution_count": 4,
   "id": "e2b6dd74-3838-4ae8-a1cb-27cc9ea4b27d",
   "metadata": {},
   "outputs": [],
   "source": [
    "label = LabelEncoder()\n",
    "dataset['Neighborhood'] = label.fit_transform(dataset['Neighborhood'])"
   ]
  },
  {
   "cell_type": "code",
   "execution_count": 5,
   "id": "d360f156-ae43-4672-9b13-5117a184097d",
   "metadata": {},
   "outputs": [
    {
     "data": {
      "text/html": [
       "<div>\n",
       "<style scoped>\n",
       "    .dataframe tbody tr th:only-of-type {\n",
       "        vertical-align: middle;\n",
       "    }\n",
       "\n",
       "    .dataframe tbody tr th {\n",
       "        vertical-align: top;\n",
       "    }\n",
       "\n",
       "    .dataframe thead th {\n",
       "        text-align: right;\n",
       "    }\n",
       "</style>\n",
       "<table border=\"1\" class=\"dataframe\">\n",
       "  <thead>\n",
       "    <tr style=\"text-align: right;\">\n",
       "      <th></th>\n",
       "      <th>Home</th>\n",
       "      <th>SqFt</th>\n",
       "      <th>Bedrooms</th>\n",
       "      <th>Bathrooms</th>\n",
       "      <th>Offers</th>\n",
       "      <th>Neighborhood</th>\n",
       "      <th>Price</th>\n",
       "    </tr>\n",
       "  </thead>\n",
       "  <tbody>\n",
       "    <tr>\n",
       "      <th>0</th>\n",
       "      <td>1</td>\n",
       "      <td>1790</td>\n",
       "      <td>2</td>\n",
       "      <td>2</td>\n",
       "      <td>2</td>\n",
       "      <td>0</td>\n",
       "      <td>114300</td>\n",
       "    </tr>\n",
       "    <tr>\n",
       "      <th>1</th>\n",
       "      <td>2</td>\n",
       "      <td>2030</td>\n",
       "      <td>4</td>\n",
       "      <td>2</td>\n",
       "      <td>3</td>\n",
       "      <td>0</td>\n",
       "      <td>114200</td>\n",
       "    </tr>\n",
       "    <tr>\n",
       "      <th>2</th>\n",
       "      <td>3</td>\n",
       "      <td>1740</td>\n",
       "      <td>3</td>\n",
       "      <td>2</td>\n",
       "      <td>1</td>\n",
       "      <td>0</td>\n",
       "      <td>114800</td>\n",
       "    </tr>\n",
       "    <tr>\n",
       "      <th>3</th>\n",
       "      <td>4</td>\n",
       "      <td>1980</td>\n",
       "      <td>3</td>\n",
       "      <td>2</td>\n",
       "      <td>3</td>\n",
       "      <td>0</td>\n",
       "      <td>94700</td>\n",
       "    </tr>\n",
       "    <tr>\n",
       "      <th>4</th>\n",
       "      <td>5</td>\n",
       "      <td>2130</td>\n",
       "      <td>3</td>\n",
       "      <td>3</td>\n",
       "      <td>3</td>\n",
       "      <td>0</td>\n",
       "      <td>119800</td>\n",
       "    </tr>\n",
       "    <tr>\n",
       "      <th>5</th>\n",
       "      <td>6</td>\n",
       "      <td>1780</td>\n",
       "      <td>3</td>\n",
       "      <td>2</td>\n",
       "      <td>2</td>\n",
       "      <td>1</td>\n",
       "      <td>114600</td>\n",
       "    </tr>\n",
       "    <tr>\n",
       "      <th>6</th>\n",
       "      <td>7</td>\n",
       "      <td>1830</td>\n",
       "      <td>3</td>\n",
       "      <td>3</td>\n",
       "      <td>3</td>\n",
       "      <td>2</td>\n",
       "      <td>151600</td>\n",
       "    </tr>\n",
       "  </tbody>\n",
       "</table>\n",
       "</div>"
      ],
      "text/plain": [
       "   Home  SqFt  Bedrooms  Bathrooms  Offers  Neighborhood   Price\n",
       "0     1  1790         2          2       2             0  114300\n",
       "1     2  2030         4          2       3             0  114200\n",
       "2     3  1740         3          2       1             0  114800\n",
       "3     4  1980         3          2       3             0   94700\n",
       "4     5  2130         3          3       3             0  119800\n",
       "5     6  1780         3          2       2             1  114600\n",
       "6     7  1830         3          3       3             2  151600"
      ]
     },
     "execution_count": 5,
     "metadata": {},
     "output_type": "execute_result"
    }
   ],
   "source": [
    "dataset.head(7)"
   ]
  },
  {
   "cell_type": "code",
   "execution_count": 6,
   "id": "7f47e096-8672-4613-afb8-876820a53267",
   "metadata": {},
   "outputs": [],
   "source": [
    "x = dataset.iloc[:,:-1]\n",
    "y = dataset['Price']"
   ]
  },
  {
   "cell_type": "code",
   "execution_count": 7,
   "id": "5c23f6da-d281-4c45-982c-4be8cd72cae0",
   "metadata": {},
   "outputs": [],
   "source": [
    "x_train,x_test,y_train,y_test = train_test_split(x,y,test_size=0.2,random_state=2)"
   ]
  },
  {
   "cell_type": "code",
   "execution_count": 8,
   "id": "930e747f-f38b-4dbc-bb5a-c432a30337ca",
   "metadata": {},
   "outputs": [
    {
     "name": "stdout",
     "output_type": "stream",
     "text": [
      "(128, 6) (102, 6) (26, 6)\n"
     ]
    }
   ],
   "source": [
    "print(x.shape,x_train.shape,x_test.shape)"
   ]
  },
  {
   "cell_type": "code",
   "execution_count": 9,
   "id": "8ab683ec-f6e4-43c2-aec0-4a00ffa894da",
   "metadata": {},
   "outputs": [],
   "source": [
    "from sklearn.linear_model import LinearRegression\n",
    "from sklearn.linear_model import Ridge\n",
    "from sklearn.linear_model import Lasso\n",
    "from sklearn.tree import DecisionTreeRegressor\n",
    "from sklearn.ensemble import RandomForestRegressor\n",
    "from sklearn.ensemble import GradientBoostingRegressor\n",
    "from sklearn.ensemble import AdaBoostRegressor\n",
    "from xgboost import XGBRegressor\n",
    "from sklearn.neighbors import KNeighborsRegressor\n",
    "from sklearn.svm import SVR"
   ]
  },
  {
   "cell_type": "code",
   "execution_count": 10,
   "id": "fda24d8d-78a4-4614-a9ee-fee620afe21a",
   "metadata": {},
   "outputs": [],
   "source": [
    "lr = LinearRegression()\n",
    "ridge = Ridge(alpha=1.0)\n",
    "lasso = Lasso(alpha=1.0)\n",
    "dtr = DecisionTreeRegressor()\n",
    "rfr = RandomForestRegressor()\n",
    "gbr = GradientBoostingRegressor()\n",
    "adr = AdaBoostRegressor()\n",
    "xgr = XGBRegressor()\n",
    "knr = KNeighborsRegressor()\n",
    "svr = SVR()"
   ]
  },
  {
   "cell_type": "code",
   "execution_count": 11,
   "id": "0f6c7105-9ee5-4565-97b3-c224c7641b96",
   "metadata": {},
   "outputs": [],
   "source": [
    "clfs = {\n",
    "    'linear':lr,\n",
    "    'ri':ridge,\n",
    "    'la':lasso,\n",
    "    'dt':dtr,\n",
    "    'rf':rfr,\n",
    "    'gb':gbr,\n",
    "    'ad':adr,\n",
    "    'xg':xgr,\n",
    "    'kn':knr,\n",
    "    'sv':svr\n",
    "}"
   ]
  },
  {
   "cell_type": "code",
   "execution_count": 12,
   "id": "1f166ff3-475c-4e51-947c-b649e1390b9e",
   "metadata": {},
   "outputs": [],
   "source": [
    "def trained_model(clfs,x_train,y_train,x_test,y_test):\n",
    "    clfs.fit(x_train,y_train)\n",
    "    train_predict = clfs.predict(x_test)\n",
    "    score = r2_score(y_test,train_predict)\n",
    "    absolute = mean_absolute_error(y_test,train_predict)\n",
    "    return score,absolute"
   ]
  },
  {
   "cell_type": "code",
   "execution_count": 13,
   "id": "8b4fea6d-94ff-4704-89eb-64b9265ee823",
   "metadata": {},
   "outputs": [
    {
     "data": {
      "text/plain": [
       "(0.7474051467404754, 10506.64021445457)"
      ]
     },
     "execution_count": 13,
     "metadata": {},
     "output_type": "execute_result"
    }
   ],
   "source": [
    "trained_model(lr,x_train,y_train,x_test,y_test)"
   ]
  },
  {
   "cell_type": "code",
   "execution_count": 14,
   "id": "1499302b-3b05-40e6-baaf-5279b8080b78",
   "metadata": {},
   "outputs": [
    {
     "data": {
      "text/plain": [
       "(0.7485647557860133, 10531.518415333627)"
      ]
     },
     "execution_count": 14,
     "metadata": {},
     "output_type": "execute_result"
    }
   ],
   "source": [
    "trained_model(ridge,x_train,y_train,x_test,y_test)"
   ]
  },
  {
   "cell_type": "code",
   "execution_count": 15,
   "id": "968223f1-84ad-4128-ab2d-204cb49f8783",
   "metadata": {},
   "outputs": [
    {
     "name": "stdout",
     "output_type": "stream",
     "text": [
      "Name: linear\n",
      "Score: 0.7474051467404754\n",
      "Absolute: 10506.64021445457\n",
      "Name: ri\n",
      "Score: 0.7485647557860133\n",
      "Absolute: 10531.518415333627\n",
      "Name: la\n",
      "Score: 0.747417269324351\n",
      "Absolute: 10506.741878602592\n",
      "Name: dt\n",
      "Score: 0.43679989801281216\n",
      "Absolute: 15023.076923076924\n",
      "Name: rf\n",
      "Score: 0.7185565442391566\n",
      "Absolute: 11213.26923076923\n",
      "Name: gb\n",
      "Score: 0.7222391622799791\n",
      "Absolute: 10935.178763426324\n",
      "Name: ad\n",
      "Score: 0.49543648545843844\n",
      "Absolute: 14981.977049024486\n",
      "Name: xg\n",
      "Score: 0.7505940198898315\n",
      "Absolute: 10505.685546875\n",
      "Name: kn\n",
      "Score: 0.5574864719525627\n",
      "Absolute: 14263.846153846154\n",
      "Name: sv\n",
      "Score: -0.0008984185293297031\n",
      "Absolute: 21630.034112896145\n"
     ]
    }
   ],
   "source": [
    "score_final = []\n",
    "absolute_final = []\n",
    "\n",
    "for name,clf in clfs.items():\n",
    "    current_score,current_absolute = trained_model(clf,x_train,y_train,x_test,y_test)\n",
    "\n",
    "    print(\"Name:\",name)\n",
    "    print(\"Score:\",current_score)\n",
    "    print(\"Absolute:\",current_absolute)\n",
    "\n",
    "    score_final.append(current_score)\n",
    "    absolute_final.append(current_absolute)"
   ]
  },
  {
   "cell_type": "code",
   "execution_count": 16,
   "id": "e25d3623-0285-4e6a-bc73-d24adcf0dbb2",
   "metadata": {},
   "outputs": [
    {
     "name": "stdout",
     "output_type": "stream",
     "text": [
      "Price is : $83604.1\n"
     ]
    }
   ],
   "source": [
    "house_price = (18,1990,3,3,4,1)\n",
    "house_price_array = np.asarray(house_price).reshape(1,-1)\n",
    "column = ['Home',\t'SqFt',\t'Bedrooms',\t'Bathrooms',\t'Offers',\t'Neighborhood']\n",
    "predicted = xgr.predict(house_price_array)[0]\n",
    "print(f\"Price is : ${ predicted:.1f}\")"
   ]
  },
  {
   "cell_type": "code",
   "execution_count": 17,
   "id": "4f4214d3-94f0-46b8-99be-c0df70cfda83",
   "metadata": {},
   "outputs": [],
   "source": [
    "import pickle"
   ]
  },
  {
   "cell_type": "code",
   "execution_count": 18,
   "id": "18e6f68d-6ea3-4532-85e7-85010b90fde5",
   "metadata": {},
   "outputs": [],
   "source": [
    "pickle.dump(xgr,open('model.pkl','wb'))\n",
    "pickle.dump(label,open('encoder.pkl','wb'))"
   ]
  }
 ],
 "metadata": {
  "kernelspec": {
   "display_name": "Python [conda env:anaconda3]",
   "language": "python",
   "name": "conda-env-anaconda3-py"
  },
  "language_info": {
   "codemirror_mode": {
    "name": "ipython",
    "version": 3
   },
   "file_extension": ".py",
   "mimetype": "text/x-python",
   "name": "python",
   "nbconvert_exporter": "python",
   "pygments_lexer": "ipython3",
   "version": "3.11.5"
  }
 },
 "nbformat": 4,
 "nbformat_minor": 5
}
